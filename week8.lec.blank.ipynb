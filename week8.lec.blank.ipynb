{
 "cells": [
  {
   "cell_type": "markdown",
   "metadata": {},
   "source": [
    "# Lecture - Analysis with Python \n",
    "\n",
    "### *2023-10-17* \n",
    "\n",
    "This is a Jupyter notebook.  We'll write all of our code for the remainder of class in a Jupyter notebook. \n",
    "\n",
    "Today do not worry about how any of this works.  Throughout the next few weeks, we'll learn how each of these pieces work. \n",
    " "
   ]
  },
  {
   "cell_type": "code",
   "execution_count": null,
   "metadata": {},
   "outputs": [],
   "source": [
    "from datascience import * \n",
    "import numpy as np \n",
    "import matplotlib.pyplot as plt \n",
    "%matplotlib inline\n",
    "import plotly.graph_objects as go"
   ]
  },
  {
   "cell_type": "markdown",
   "metadata": {},
   "source": [
    "## Michigan Universities \n",
    "\n",
    "Here, we'll load in data about all public universities in Michigan.  The data comes from this [Wikipedia article](https://en.wikipedia.org/wiki/List_of_colleges_and_universities_in_Michigan). "
   ]
  },
  {
   "cell_type": "code",
   "execution_count": null,
   "metadata": {},
   "outputs": [],
   "source": [
    "# Load in the \"michigan universities.csv\" file \n",
    "uni = Table.read_table('michigan_universities.csv')"
   ]
  },
  {
   "cell_type": "markdown",
   "metadata": {},
   "source": [
    "Data is often stored in tables.  In a few weeks, you will become more familiear with how tables work.  \n",
    "But for now, you can just observe. "
   ]
  },
  {
   "cell_type": "code",
   "execution_count": null,
   "metadata": {},
   "outputs": [],
   "source": [
    "# Let's see what the table looks like \n",
    "..."
   ]
  },
  {
   "cell_type": "markdown",
   "metadata": {},
   "source": [
    "Let's start asking questions. "
   ]
  },
  {
   "cell_type": "markdown",
   "metadata": {},
   "source": [
    "### What are the largest public universities in Michigan? "
   ]
  },
  {
   "cell_type": "code",
   "execution_count": null,
   "metadata": {},
   "outputs": [],
   "source": [
    "# Largest universities - table format \n",
    "..."
   ]
  },
  {
   "cell_type": "markdown",
   "metadata": {},
   "source": [
    "What about in terms of graduate students? "
   ]
  },
  {
   "cell_type": "code",
   "execution_count": null,
   "metadata": {},
   "outputs": [],
   "source": [
    "# Largest universities - table format \n",
    "..."
   ]
  },
  {
   "cell_type": "code",
   "execution_count": null,
   "metadata": {},
   "outputs": [],
   "source": [
    "# Can we visualize the sizes of each university? \n",
    "..."
   ]
  },
  {
   "cell_type": "markdown",
   "metadata": {},
   "source": [
    "### What's the oldest public university in Michigan? 🤔"
   ]
  },
  {
   "cell_type": "code",
   "execution_count": null,
   "metadata": {},
   "outputs": [],
   "source": [
    "# Oldest university - table format \n",
    "..."
   ]
  },
  {
   "cell_type": "code",
   "execution_count": null,
   "metadata": {},
   "outputs": [],
   "source": [
    "# How can we visualize the ages of the universities? \n",
    "..."
   ]
  },
  {
   "cell_type": "markdown",
   "metadata": {},
   "source": [
    "Let's try to make this look a bit nicer. "
   ]
  },
  {
   "cell_type": "code",
   "execution_count": null,
   "metadata": {},
   "outputs": [],
   "source": [
    "# Just run me\n",
    "fig = go.Figure()\n",
    "\n",
    "fig.add_trace(\n",
    "    go.Scatter(x = uni_copy.column('Founded'), \n",
    "               y = uni_copy.column('Total Universities'), \n",
    "               hovertext = uni_copy.column('School'),\n",
    "               mode = 'markers',\n",
    "              )\n",
    ")\n",
    "\n",
    "fig.add_trace(\n",
    "    go.Scatter(x = uni_copy.column('Founded'), \n",
    "               y = uni_copy.column('Total Universities'),\n",
    "               line = dict(color = 'blue'),\n",
    "              )\n",
    ")\n",
    "\n",
    "fig.update_layout(title = 'Total Number of Public Universities in California by Year',\n",
    "                  xaxis_title = 'Year',\n",
    "                  yaxis_title = 'Total Universities',\n",
    "                  showlegend = False)\n",
    "\n",
    "fig.show()"
   ]
  },
  {
   "cell_type": "markdown",
   "metadata": {},
   "source": [
    "## Public Universities in Michigan "
   ]
  },
  {
   "cell_type": "markdown",
   "metadata": {},
   "source": [
    "### Where are the public universities in Michigan located?"
   ]
  },
  {
   "cell_type": "markdown",
   "metadata": {},
   "source": [
    "First, we need some additional information:"
   ]
  },
  {
   "cell_type": "code",
   "execution_count": null,
   "metadata": {},
   "outputs": [],
   "source": [
    "# Load in the \"uni_locations.csv\" file \n",
    "uni_locations = Table.read_table('uni_locations.csv')\n",
    "uni_locations"
   ]
  },
  {
   "cell_type": "markdown",
   "metadata": {},
   "source": [
    "Let combine some data."
   ]
  },
  {
   "cell_type": "code",
   "execution_count": null,
   "metadata": {},
   "outputs": [],
   "source": [
    "# Join the `uni` and `uni_locations` tables\n",
    "..."
   ]
  },
  {
   "cell_type": "code",
   "execution_count": null,
   "metadata": {},
   "outputs": [],
   "source": [
    "# Just run me\n",
    "\n",
    "def bubble_plot(tbl, text, size=None, lat=\"Latitude\", lon=\"Longitude\", color=None, title=None, scale_factor=150):\n",
    "    fig = go.Figure()\n",
    "    \n",
    "    if not color:\n",
    "        color_arr = ['royalblue'] * tbl.num_rows\n",
    "    else:\n",
    "        color_arr = tbl.column(color)\n",
    "        \n",
    "    if not size:\n",
    "        size_arr = [1 / scale_factor] * tbl.num_rows\n",
    "    else:\n",
    "        size_arr = tbl.column(size) / scale_factor\n",
    "\n",
    "    fig = fig.add_trace(go.Scattergeo(\n",
    "                            lat = tbl.column(lat), \n",
    "                            lon = tbl.column(lon),\n",
    "                            text = tbl.column(text),\n",
    "                            marker = dict(\n",
    "                                size = size_arr,\n",
    "                                sizemode = 'area',\n",
    "                                color = color_arr\n",
    "                            )\n",
    "                        ))\n",
    "\n",
    "    fig.update_geos(fitbounds=\"locations\")\n",
    "    fig.update_layout(\n",
    "        geo = dict(\n",
    "                scope = 'usa',\n",
    "                landcolor = 'rgb(217, 217, 217)',\n",
    "            ),\n",
    "        title = title\n",
    "    )\n",
    "    \n",
    "    return fig\n"
   ]
  },
  {
   "cell_type": "code",
   "execution_count": null,
   "metadata": {},
   "outputs": [],
   "source": [
    "# Call the `bubble_plot` function, passing in the proper arguments\n",
    "fig = bubble_plot(unis_with_location, text=\"School\", size=\"UndergradEnroll\", title=\"Public Universities in Michigan\")\n",
    "fig.show()"
   ]
  },
  {
   "cell_type": "code",
   "execution_count": null,
   "metadata": {},
   "outputs": [],
   "source": [
    "unis_with_location"
   ]
  },
  {
   "cell_type": "markdown",
   "metadata": {},
   "source": [
    "Can we add more information?"
   ]
  },
  {
   "cell_type": "code",
   "execution_count": null,
   "metadata": {},
   "outputs": [],
   "source": [
    "# Let's add a color column\n",
    "unis_with_color = unis_with_location.with_column('Color', ['crimson'] * unis_with_location.num_rows)\n",
    "unis_with_color"
   ]
  },
  {
   "cell_type": "code",
   "execution_count": null,
   "metadata": {},
   "outputs": [],
   "source": [
    "# Use the `bubble_plot` function to map the universities, this time specifying the bubble color\n",
    "fig = bubble_plot(unis_with_color, text=\"School\", size=\"UndergradEnroll\", color=\"Color\", title=\"Public Universities in Michigan\")\n",
    "fig.show()"
   ]
  },
  {
   "cell_type": "markdown",
   "metadata": {},
   "source": [
    "It would be nice if this were color-coded based on \"Public vs. Private\" type of college. We can do that!"
   ]
  },
  {
   "cell_type": "code",
   "execution_count": null,
   "metadata": {},
   "outputs": [],
   "source": [
    "def code_uc(control):\n",
    "    if 'Public' in control:\n",
    "        return 'royalblue'\n",
    "    else:\n",
    "        return 'crimson'"
   ]
  },
  {
   "cell_type": "code",
   "execution_count": null,
   "metadata": {},
   "outputs": [],
   "source": [
    "# Apply the `code_uc` function to the 'Control' column to color-code the universities\n",
    "..."
   ]
  },
  {
   "cell_type": "code",
   "execution_count": null,
   "metadata": {},
   "outputs": [],
   "source": [
    "# Plot the color-coded universities on the map with the `bubble_plot` function\n",
    "..."
   ]
  },
  {
   "cell_type": "markdown",
   "metadata": {},
   "source": [
    "Violà!"
   ]
  },
  {
   "cell_type": "markdown",
   "metadata": {},
   "source": []
  }
 ],
 "metadata": {
  "kernelspec": {
   "display_name": "un5550",
   "language": "python",
   "name": "python3"
  },
  "language_info": {
   "codemirror_mode": {
    "name": "ipython",
    "version": 3
   },
   "file_extension": ".py",
   "mimetype": "text/x-python",
   "name": "python",
   "nbconvert_exporter": "python",
   "pygments_lexer": "ipython3",
   "version": "3.10.12"
  },
  "orig_nbformat": 4
 },
 "nbformat": 4,
 "nbformat_minor": 2
}
